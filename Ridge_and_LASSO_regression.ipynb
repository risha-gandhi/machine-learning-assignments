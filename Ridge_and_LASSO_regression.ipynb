{
  "nbformat": 4,
  "nbformat_minor": 0,
  "metadata": {
    "kernelspec": {
      "display_name": "Python 3",
      "language": "python",
      "name": "python3"
    },
    "language_info": {
      "codemirror_mode": {
        "name": "ipython",
        "version": 3
      },
      "file_extension": ".py",
      "mimetype": "text/x-python",
      "name": "python",
      "nbconvert_exporter": "python",
      "pygments_lexer": "ipython3",
      "version": "3.6.7"
    },
    "colab": {
      "name": "Copy of Assignment 3: Ridge-and-LASSO.ipynb",
      "provenance": [],
      "collapsed_sections": [],
      "include_colab_link": true
    }
  },
  "cells": [
    {
      "cell_type": "markdown",
      "metadata": {
        "id": "view-in-github",
        "colab_type": "text"
      },
      "source": [
        "<a href=\"https://colab.research.google.com/github/risha-gandhi/machine-learning-assignments/blob/main/Ridge_and_LASSO_regression.ipynb\" target=\"_parent\"><img src=\"https://colab.research.google.com/assets/colab-badge.svg\" alt=\"Open In Colab\"/></a>"
      ]
    },
    {
      "cell_type": "code",
      "metadata": {
        "id": "qc_6Yf8fie3X"
      },
      "source": [
        "import pandas as pd\n",
        "import numpy as np\n",
        "import matplotlib.pyplot as plt\n",
        "\n",
        "%matplotlib inline"
      ],
      "execution_count": null,
      "outputs": []
    },
    {
      "cell_type": "markdown",
      "metadata": {
        "id": "SsbjWKiiie3b"
      },
      "source": [
        "### Part 1: Load and prep the data (5 pts)"
      ]
    },
    {
      "cell_type": "markdown",
      "metadata": {
        "id": "Im-hZ_Aqie3c"
      },
      "source": [
        "\n",
        "In this assignment we'll look at the affect of using regularization on linear regression models that we train. You will write code to train models that use different regularizers and different penalties and to analyze how this affects the model.\n",
        "\n",
        "For this assignment, we will only be using a very small subset of the data to do our analysis. This is not something you would usually do in practice, but is something we do for this assignment to simplify this complexity of this dataset. The data is pretty noisy and to get meaningful results to demonstrate the theoretical behavior, you would need to use a much more complicated set of features that would be a bit more tedious to work with.\n",
        "\n",
        "Use ``home_data.csv.``"
      ]
    },
    {
      "cell_type": "code",
      "metadata": {
        "id": "sxovDo9Kie3d",
        "outputId": "f5a58183-6a24-4033-b384-3cc8e2746b6c",
        "colab": {
          "base_uri": "https://localhost:8080/",
          "height": 288
        }
      },
      "source": [
        "# TODO: Load the data using pandas - you can look at Assignment 1 if you have forgotten how to do this.\n",
        "sales = pd.read_csv(\"home_data.csv\")\n",
        "# Selects 1% of the data\n",
        "sales = sales.sample(frac=0.01, random_state=0) \n",
        "\n",
        "print(f'Number of points: {len(sales)}')\n",
        "sales.head()"
      ],
      "execution_count": null,
      "outputs": [
        {
          "output_type": "stream",
          "name": "stdout",
          "text": [
            "Number of points: 216\n"
          ]
        },
        {
          "output_type": "execute_result",
          "data": {
            "text/html": [
              "\n",
              "  <div id=\"df-18e528d3-ebc6-4cc4-b97c-2e2d2f6336f3\">\n",
              "    <div class=\"colab-df-container\">\n",
              "      <div>\n",
              "<style scoped>\n",
              "    .dataframe tbody tr th:only-of-type {\n",
              "        vertical-align: middle;\n",
              "    }\n",
              "\n",
              "    .dataframe tbody tr th {\n",
              "        vertical-align: top;\n",
              "    }\n",
              "\n",
              "    .dataframe thead th {\n",
              "        text-align: right;\n",
              "    }\n",
              "</style>\n",
              "<table border=\"1\" class=\"dataframe\">\n",
              "  <thead>\n",
              "    <tr style=\"text-align: right;\">\n",
              "      <th></th>\n",
              "      <th>id</th>\n",
              "      <th>date</th>\n",
              "      <th>price</th>\n",
              "      <th>bedrooms</th>\n",
              "      <th>bathrooms</th>\n",
              "      <th>sqft_living</th>\n",
              "      <th>sqft_lot</th>\n",
              "      <th>floors</th>\n",
              "      <th>waterfront</th>\n",
              "      <th>view</th>\n",
              "      <th>condition</th>\n",
              "      <th>grade</th>\n",
              "      <th>sqft_above</th>\n",
              "      <th>sqft_basement</th>\n",
              "      <th>yr_built</th>\n",
              "      <th>yr_renovated</th>\n",
              "      <th>zipcode</th>\n",
              "      <th>lat</th>\n",
              "      <th>long</th>\n",
              "      <th>sqft_living15</th>\n",
              "      <th>sqft_lot15</th>\n",
              "    </tr>\n",
              "  </thead>\n",
              "  <tbody>\n",
              "    <tr>\n",
              "      <th>17384</th>\n",
              "      <td>1453602313</td>\n",
              "      <td>20141029T000000</td>\n",
              "      <td>297000</td>\n",
              "      <td>2</td>\n",
              "      <td>1.50</td>\n",
              "      <td>1430</td>\n",
              "      <td>1650</td>\n",
              "      <td>3.0</td>\n",
              "      <td>0</td>\n",
              "      <td>0</td>\n",
              "      <td>3</td>\n",
              "      <td>7</td>\n",
              "      <td>1430</td>\n",
              "      <td>0</td>\n",
              "      <td>1999</td>\n",
              "      <td>0</td>\n",
              "      <td>98125</td>\n",
              "      <td>47.7222</td>\n",
              "      <td>-122.290</td>\n",
              "      <td>1430</td>\n",
              "      <td>1650</td>\n",
              "    </tr>\n",
              "    <tr>\n",
              "      <th>722</th>\n",
              "      <td>2225059214</td>\n",
              "      <td>20140808T000000</td>\n",
              "      <td>1578000</td>\n",
              "      <td>4</td>\n",
              "      <td>3.25</td>\n",
              "      <td>4670</td>\n",
              "      <td>51836</td>\n",
              "      <td>2.0</td>\n",
              "      <td>0</td>\n",
              "      <td>0</td>\n",
              "      <td>4</td>\n",
              "      <td>12</td>\n",
              "      <td>4670</td>\n",
              "      <td>0</td>\n",
              "      <td>1988</td>\n",
              "      <td>0</td>\n",
              "      <td>98005</td>\n",
              "      <td>47.6350</td>\n",
              "      <td>-122.164</td>\n",
              "      <td>4230</td>\n",
              "      <td>41075</td>\n",
              "    </tr>\n",
              "    <tr>\n",
              "      <th>2680</th>\n",
              "      <td>2768000270</td>\n",
              "      <td>20140625T000000</td>\n",
              "      <td>562100</td>\n",
              "      <td>2</td>\n",
              "      <td>0.75</td>\n",
              "      <td>1440</td>\n",
              "      <td>3700</td>\n",
              "      <td>1.0</td>\n",
              "      <td>0</td>\n",
              "      <td>0</td>\n",
              "      <td>3</td>\n",
              "      <td>7</td>\n",
              "      <td>1200</td>\n",
              "      <td>240</td>\n",
              "      <td>1914</td>\n",
              "      <td>0</td>\n",
              "      <td>98107</td>\n",
              "      <td>47.6707</td>\n",
              "      <td>-122.364</td>\n",
              "      <td>1440</td>\n",
              "      <td>4300</td>\n",
              "    </tr>\n",
              "    <tr>\n",
              "      <th>18754</th>\n",
              "      <td>6819100040</td>\n",
              "      <td>20140624T000000</td>\n",
              "      <td>631500</td>\n",
              "      <td>2</td>\n",
              "      <td>1.00</td>\n",
              "      <td>1130</td>\n",
              "      <td>2640</td>\n",
              "      <td>1.0</td>\n",
              "      <td>0</td>\n",
              "      <td>0</td>\n",
              "      <td>4</td>\n",
              "      <td>8</td>\n",
              "      <td>1130</td>\n",
              "      <td>0</td>\n",
              "      <td>1927</td>\n",
              "      <td>0</td>\n",
              "      <td>98109</td>\n",
              "      <td>47.6438</td>\n",
              "      <td>-122.357</td>\n",
              "      <td>1680</td>\n",
              "      <td>3200</td>\n",
              "    </tr>\n",
              "    <tr>\n",
              "      <th>14554</th>\n",
              "      <td>4027700666</td>\n",
              "      <td>20150426T000000</td>\n",
              "      <td>780000</td>\n",
              "      <td>4</td>\n",
              "      <td>2.50</td>\n",
              "      <td>3180</td>\n",
              "      <td>9603</td>\n",
              "      <td>2.0</td>\n",
              "      <td>0</td>\n",
              "      <td>2</td>\n",
              "      <td>3</td>\n",
              "      <td>9</td>\n",
              "      <td>3180</td>\n",
              "      <td>0</td>\n",
              "      <td>2002</td>\n",
              "      <td>0</td>\n",
              "      <td>98155</td>\n",
              "      <td>47.7717</td>\n",
              "      <td>-122.277</td>\n",
              "      <td>2440</td>\n",
              "      <td>15261</td>\n",
              "    </tr>\n",
              "  </tbody>\n",
              "</table>\n",
              "</div>\n",
              "      <button class=\"colab-df-convert\" onclick=\"convertToInteractive('df-18e528d3-ebc6-4cc4-b97c-2e2d2f6336f3')\"\n",
              "              title=\"Convert this dataframe to an interactive table.\"\n",
              "              style=\"display:none;\">\n",
              "        \n",
              "  <svg xmlns=\"http://www.w3.org/2000/svg\" height=\"24px\"viewBox=\"0 0 24 24\"\n",
              "       width=\"24px\">\n",
              "    <path d=\"M0 0h24v24H0V0z\" fill=\"none\"/>\n",
              "    <path d=\"M18.56 5.44l.94 2.06.94-2.06 2.06-.94-2.06-.94-.94-2.06-.94 2.06-2.06.94zm-11 1L8.5 8.5l.94-2.06 2.06-.94-2.06-.94L8.5 2.5l-.94 2.06-2.06.94zm10 10l.94 2.06.94-2.06 2.06-.94-2.06-.94-.94-2.06-.94 2.06-2.06.94z\"/><path d=\"M17.41 7.96l-1.37-1.37c-.4-.4-.92-.59-1.43-.59-.52 0-1.04.2-1.43.59L10.3 9.45l-7.72 7.72c-.78.78-.78 2.05 0 2.83L4 21.41c.39.39.9.59 1.41.59.51 0 1.02-.2 1.41-.59l7.78-7.78 2.81-2.81c.8-.78.8-2.07 0-2.86zM5.41 20L4 18.59l7.72-7.72 1.47 1.35L5.41 20z\"/>\n",
              "  </svg>\n",
              "      </button>\n",
              "      \n",
              "  <style>\n",
              "    .colab-df-container {\n",
              "      display:flex;\n",
              "      flex-wrap:wrap;\n",
              "      gap: 12px;\n",
              "    }\n",
              "\n",
              "    .colab-df-convert {\n",
              "      background-color: #E8F0FE;\n",
              "      border: none;\n",
              "      border-radius: 50%;\n",
              "      cursor: pointer;\n",
              "      display: none;\n",
              "      fill: #1967D2;\n",
              "      height: 32px;\n",
              "      padding: 0 0 0 0;\n",
              "      width: 32px;\n",
              "    }\n",
              "\n",
              "    .colab-df-convert:hover {\n",
              "      background-color: #E2EBFA;\n",
              "      box-shadow: 0px 1px 2px rgba(60, 64, 67, 0.3), 0px 1px 3px 1px rgba(60, 64, 67, 0.15);\n",
              "      fill: #174EA6;\n",
              "    }\n",
              "\n",
              "    [theme=dark] .colab-df-convert {\n",
              "      background-color: #3B4455;\n",
              "      fill: #D2E3FC;\n",
              "    }\n",
              "\n",
              "    [theme=dark] .colab-df-convert:hover {\n",
              "      background-color: #434B5C;\n",
              "      box-shadow: 0px 1px 3px 1px rgba(0, 0, 0, 0.15);\n",
              "      filter: drop-shadow(0px 1px 2px rgba(0, 0, 0, 0.3));\n",
              "      fill: #FFFFFF;\n",
              "    }\n",
              "  </style>\n",
              "\n",
              "      <script>\n",
              "        const buttonEl =\n",
              "          document.querySelector('#df-18e528d3-ebc6-4cc4-b97c-2e2d2f6336f3 button.colab-df-convert');\n",
              "        buttonEl.style.display =\n",
              "          google.colab.kernel.accessAllowed ? 'block' : 'none';\n",
              "\n",
              "        async function convertToInteractive(key) {\n",
              "          const element = document.querySelector('#df-18e528d3-ebc6-4cc4-b97c-2e2d2f6336f3');\n",
              "          const dataTable =\n",
              "            await google.colab.kernel.invokeFunction('convertToInteractive',\n",
              "                                                     [key], {});\n",
              "          if (!dataTable) return;\n",
              "\n",
              "          const docLinkHtml = 'Like what you see? Visit the ' +\n",
              "            '<a target=\"_blank\" href=https://colab.research.google.com/notebooks/data_table.ipynb>data table notebook</a>'\n",
              "            + ' to learn more about interactive tables.';\n",
              "          element.innerHTML = '';\n",
              "          dataTable['output_type'] = 'display_data';\n",
              "          await google.colab.output.renderOutput(dataTable, element);\n",
              "          const docLink = document.createElement('div');\n",
              "          docLink.innerHTML = docLinkHtml;\n",
              "          element.appendChild(docLink);\n",
              "        }\n",
              "      </script>\n",
              "    </div>\n",
              "  </div>\n",
              "  "
            ],
            "text/plain": [
              "               id             date    price  ...     long  sqft_living15  sqft_lot15\n",
              "17384  1453602313  20141029T000000   297000  ... -122.290           1430        1650\n",
              "722    2225059214  20140808T000000  1578000  ... -122.164           4230       41075\n",
              "2680   2768000270  20140625T000000   562100  ... -122.364           1440        4300\n",
              "18754  6819100040  20140624T000000   631500  ... -122.357           1680        3200\n",
              "14554  4027700666  20150426T000000   780000  ... -122.277           2440       15261\n",
              "\n",
              "[5 rows x 21 columns]"
            ]
          },
          "metadata": {},
          "execution_count": 2
        }
      ]
    },
    {
      "cell_type": "markdown",
      "metadata": {
        "id": "vz5zhMH1ie3h"
      },
      "source": [
        "First, we do a bit of feature engineering by creating features that represent the squares of each feature and the square root of each feature. One benefit of using regularization is you can include more features than necessary and you don't have to be as worried about overfitting since the model is regularized."
      ]
    },
    {
      "cell_type": "code",
      "metadata": {
        "id": "O3-mJSjVie3h",
        "outputId": "6c8865f8-8f8e-4e97-b907-aa151be0d09f",
        "colab": {
          "base_uri": "https://localhost:8080/"
        }
      },
      "source": [
        "from math import sqrt\n",
        "\n",
        "# All of the features of interest\n",
        "features = [\n",
        "    'bedrooms', \n",
        "    'bathrooms',\n",
        "    'sqft_living', \n",
        "    'sqft_lot', \n",
        "    'floors', \n",
        "    'waterfront', \n",
        "    'view', \n",
        "    'condition', \n",
        "    'grade',\n",
        "    'sqft_above',\n",
        "    'sqft_basement',\n",
        "    'yr_built', \n",
        "    'yr_renovated'\n",
        "]\n",
        "\n",
        "# Compute the square and sqrt of each feature\n",
        "all_features = []\n",
        "for feat in features:\n",
        "    square_feat = feat + '_square' \n",
        "    sqrt_feat = feat + '_sqrt'\n",
        "    \n",
        "    sales[square_feat] = sales[feat] ** 2\n",
        "    sales[sqrt_feat] = sales[feat].apply(sqrt)\n",
        "    \n",
        "    all_features.extend([feat, square_feat, sqrt_feat])\n",
        "    \n",
        "print(sales.head())\n",
        "\n",
        "X = sales[all_features]\n",
        "y = sales['price']"
      ],
      "execution_count": null,
      "outputs": [
        {
          "output_type": "stream",
          "name": "stdout",
          "text": [
            "               id             date  ...  yr_renovated_square  yr_renovated_sqrt\n",
            "17384  1453602313  20141029T000000  ...                    0                0.0\n",
            "722    2225059214  20140808T000000  ...                    0                0.0\n",
            "2680   2768000270  20140625T000000  ...                    0                0.0\n",
            "18754  6819100040  20140624T000000  ...                    0                0.0\n",
            "14554  4027700666  20150426T000000  ...                    0                0.0\n",
            "\n",
            "[5 rows x 47 columns]\n"
          ]
        }
      ]
    },
    {
      "cell_type": "markdown",
      "metadata": {
        "id": "nUjAXbHGie3k"
      },
      "source": [
        "Next, we will split the data set into training, validation, and test sets. For this assignment we will use 70% of the data to train, 10% for validation, and 20% to test. \n",
        "\n",
        "We have written most of the splitting for you, but we need you to figure out what the sizes should be in this case based off the numbers above. Remember, we use `random_state=6` to make sure the results are the same for everyone on this assignment. \n",
        "*Hint: You should print out the length of the datasets to make sure you got it right!*"
      ]
    },
    {
      "cell_type": "code",
      "metadata": {
        "id": "uqF3MC6bie3k",
        "outputId": "d7aa3357-6ca1-4628-fb14-6ac4410fc45b",
        "colab": {
          "base_uri": "https://localhost:8080/"
        }
      },
      "source": [
        "# TODO Make train/test splits of the right size.\n",
        "from sklearn.model_selection import train_test_split\n",
        "X_train_and_validation, X_test, y_train_and_validation, y_test  =  train_test_split(X, y, test_size = 0.2, random_state = 6) # TODO: Make the test set 20%\n",
        "X_train, X_val, y_train, y_val = train_test_split(X_train_and_validation, y_train_and_validation, test_size = 0.125, random_state = 6)# TODO: Make the val set 10% of the total data (not 10% of X_train_and_validation)\n",
        "print(X_train.shape, X_val.shape, X_test.shape)\n"
      ],
      "execution_count": null,
      "outputs": [
        {
          "output_type": "stream",
          "name": "stdout",
          "text": [
            "(150, 39) (22, 39) (44, 39)\n"
          ]
        }
      ]
    },
    {
      "cell_type": "markdown",
      "metadata": {
        "id": "9Jk7GvKhie3o"
      },
      "source": [
        "We first need to do a little bit more pre-processing to prepare the data for model training. Models like Ridge and LASSO assume the input features are standardized (mean 0, std. dev. 1) and the target values are centered (mean 0). If we do not do this, we might get some unpredictable results since we violate the assumption of the models!\n",
        "\n",
        "We can use Sklearn's Standard scaler to do this - for each feature we learn the mean $\\mu$ and standard deviation $\\sigma$ and then rescale that feature for each point. Ie., if that feature used to be $x$ it is now $\\frac{x - \\mu}{s}$.\n",
        "\n",
        "See [StandardScaler](https://scikit-learn.org/stable/modules/generated/sklearn.preprocessing.StandardScaler.html) for more info. Note that we learn it on the training set and then apply it to the validation set and test set. We also center the depenent variable $y$-values."
      ]
    },
    {
      "cell_type": "code",
      "metadata": {
        "id": "TKJnzMt1ie3p"
      },
      "source": [
        "from sklearn.preprocessing import StandardScaler\n",
        "\n",
        "scaler = StandardScaler()\n",
        "\n",
        "X_train = scaler.fit_transform(X_train)\n",
        "y_train = y_train - np.mean(y_train)\n",
        "\n",
        "X_test = scaler.transform(X_test)\n",
        "y_test = y_test - np.mean(y_train)\n",
        "\n",
        "X_val = scaler.transform(X_val)\n",
        "y_val = y_val - np.mean(y_train)"
      ],
      "execution_count": null,
      "outputs": []
    },
    {
      "cell_type": "markdown",
      "metadata": {
        "id": "LqtmxHfqie3s"
      },
      "source": [
        "### Part 2: Linear Regression (5 pts)\n",
        "As a baseline, we will first, train a regular `LinearRegression` model on the data using the features in `all_features` and compute its **test RMSE** . The RMSE is the square root of the mean squared error. "
      ]
    },
    {
      "cell_type": "code",
      "metadata": {
        "id": "D02psSd4ie3s",
        "outputId": "ad231765-aaa1-47c3-d016-f78711f0b899",
        "colab": {
          "base_uri": "https://localhost:8080/"
        }
      },
      "source": [
        "# TODO Train a linear regression model - you may need to import LinearRegression and mean_squared_error from sklearn\n",
        "from sklearn.linear_model import LinearRegression\n",
        "from sklearn.metrics import mean_squared_error\n",
        "import math\n",
        "\n",
        "model = LinearRegression()\n",
        "model.fit(X_train,y_train)\n",
        "y_pred = model.predict(X_test)\n",
        "y_pred_train = model.predict(X_train)\n",
        "\n",
        "# TODO - compute and compare the RMSE on the train and test data.\n",
        "train_rmse = math.sqrt(mean_squared_error(y_train, y_pred_train))\n",
        "test_rmse =  math.sqrt(mean_squared_error(y_test, y_pred))\n",
        "print('Train', train_rmse)\n",
        "print('Test', test_rmse)"
      ],
      "execution_count": null,
      "outputs": [
        {
          "output_type": "stream",
          "name": "stdout",
          "text": [
            "Train 142457.31542346903\n",
            "Test 675086.2425484249\n"
          ]
        }
      ]
    },
    {
      "cell_type": "markdown",
      "metadata": {
        "id": "0jyZ9qvvie3w"
      },
      "source": [
        "--- \n",
        "### Part 3: Ridge Regression (10pts)\n",
        "\n",
        "\n",
        "In this section, we will do some **hyper-parameter tuning** to find the optimal setting of the regularization constant $\\lambda$ for Ridge Regression. Remember that $\\lambda$ is the coefficient that controls how much the model is penalized for having large weights in the optimization function.\n",
        "\n",
        "$\\hat{w}_{ridge} = \\min_w RSS(w) + \\lambda \\left\\lVert w \\right\\rVert_2^2$\n",
        "\n",
        "where $\\left\\lVert w \\right\\rVert_2^2 = \\sum_{j=0}^D w_j^2$ is the L2 norm of the parameters. By default, `sklearn`'s `Ridge` class does not regularize the intercept - you should never regularize the intercept\n",
        "\n",
        "For this part of the assignment, you will be writing code to find the optimal setting of the penalty $\\lambda$. Below, we describe what steps you will want to have in your code to compute these values:\n",
        "\n",
        "*Implementation Details*\n",
        "* Use the following choices of L2 penalty: $[10^{-5}, 10^{-4}, ..., 10^4, 10^5]$. In Python, you can create a list of these numbers using `np.logspace(-5, 5, 11)`. \n",
        "* Use the [Ridge](https://scikit-learn.org/stable/modules/generated/sklearn.linear_model.Ridge.html#sklearn.linear_model.Ridge) class from sklearn to train a Ridge Regression model on the **training** data. The **only** parameters you need to pass when constructing the Ridge model are `alpha`, which lets you specify what you want the L2 penalty to be, and `random_state=0` to avoid randomness.\n",
        "* Evaluate both the training error and the validation error for the model by reporting the RMSE of each dataset.\n",
        "* Put all of your results in a pandas `DataFrame` named `ridge_data` so you can analyze them later. The `ridge_data` should have a row for each L2 penalty you tried and should have the following columns:\n",
        "  * `l2_penalty`: The L2 penalty for that row\n",
        "  * `model`: The actual `Ridge` model object that was trained with that L2 penalty\n",
        "  * `train_rmse`: The training RMSE for that model\n",
        "  * `validation_rmse`: The validation RMSE for that model\n",
        "\n",
        "*Hints: Here is a  strategy that you might find helpful*\n",
        "* You will need a loop to loop over the possible L2 penalties. Try writing a lot of the code without a loop first if you're stuck to help you figure out how the pieces go together. You can safely ignore building up the result `DataFrame` at first, just print all the information out to start! \n",
        "* If you are running into troubles writing your loop, try to print values out to investigate what's going wrong.\n",
        "* Remember to use RMSE for calculating the error!\n"
      ]
    },
    {
      "cell_type": "code",
      "metadata": {
        "id": "G8J4dgYwie3w",
        "outputId": "6b222ae8-ba6a-4eea-e769-17d40801e2ae",
        "colab": {
          "base_uri": "https://localhost:8080/"
        }
      },
      "source": [
        "# TODO \n",
        "import numpy as np\n",
        "from sklearn.linear_model import Ridge\n",
        "from sklearn.metrics import mean_squared_error\n",
        "\n",
        "l2_penalties = np.logspace(-5, 5, 11) # TODO: make the list of lambda values\n",
        "ridge_data = []\n",
        "\n",
        "for l2_penalty in l2_penalties:\n",
        "    print(l2_penalty)\n",
        "    model = Ridge(alpha= l2_penalty, random_state = 0)#TODO: Train a Ridge regression model using Ridge in sklearn. Remember that alpha is the lambda parameter from class. Use random_state=0\n",
        "    model.fit(X_train,y_train)\n",
        "    y_pred = model.predict(X_train)\n",
        "    y_pred_val = model.predict(X_val)\n",
        "    train_rmse = math.sqrt(mean_squared_error(y_train, y_pred)) #TODO: compute RMSE on the train set\n",
        "    validation_rmse = math.sqrt(mean_squared_error(y_val, y_pred_val)) # TODO: compute RMSE on the validation set\n",
        "    \n",
        "    # We maintain a list of dictionaries containing our results\n",
        "    ridge_data.append({\n",
        "        'l2_penalty': l2_penalty,\n",
        "        'model': model,\n",
        "        'train_rmse': train_rmse,\n",
        "        'validation_rmse': validation_rmse})\n",
        "    \n",
        "ridge_data = pd.DataFrame(ridge_data) # We will put this data into a datframe to make it easier to use later.\n",
        "print(ridge_data)"
      ],
      "execution_count": null,
      "outputs": [
        {
          "output_type": "stream",
          "name": "stdout",
          "text": [
            "1e-05\n",
            "0.0001\n",
            "0.001\n",
            "0.01\n",
            "0.1\n",
            "1.0\n",
            "10.0\n",
            "100.0\n",
            "1000.0\n",
            "10000.0\n",
            "100000.0\n",
            "      l2_penalty  ... validation_rmse\n",
            "0        0.00001  ...   643241.226105\n",
            "1        0.00010  ...   643479.885343\n",
            "2        0.00100  ...   641921.798386\n",
            "3        0.01000  ...   614600.996092\n",
            "4        0.10000  ...   572434.297452\n",
            "5        1.00000  ...   550761.625114\n",
            "6       10.00000  ...   548518.261356\n",
            "7      100.00000  ...   567371.418909\n",
            "8     1000.00000  ...   641193.052000\n",
            "9    10000.00000  ...   762923.644311\n",
            "10  100000.00000  ...   797592.043545\n",
            "\n",
            "[11 rows x 4 columns]\n"
          ]
        }
      ]
    },
    {
      "cell_type": "markdown",
      "metadata": {
        "id": "HlepJn1Wie3z"
      },
      "source": [
        "As a sanity check, the cells below make sure you have a variable named `ridge_data` with the right number of rows and columns. If nothing is printed out, you pass this sanity check! "
      ]
    },
    {
      "cell_type": "code",
      "metadata": {
        "id": "pcWmH5ytie30"
      },
      "source": [
        "assert type(ridge_data) == pd.DataFrame\n",
        "assert len(ridge_data) == 11\n",
        "\n",
        "for col in ['l2_penalty', 'model', 'train_rmse', 'validation_rmse']:\n",
        "    assert col in ridge_data.columns, f'Missing column {col}'"
      ],
      "execution_count": null,
      "outputs": []
    },
    {
      "cell_type": "markdown",
      "metadata": {
        "id": "zm3ruRpbie33"
      },
      "source": [
        "### Part 4: Investigating Ridge Regression Results (5pts)\n",
        "\n",
        "Next, let's investigate how the penalty affected the train and validation error by running the following plotting code"
      ]
    },
    {
      "cell_type": "code",
      "metadata": {
        "id": "p7N9wjsRie33",
        "outputId": "99f4e285-08db-4f34-93b0-22c4d6b44842",
        "colab": {
          "base_uri": "https://localhost:8080/",
          "height": 302
        }
      },
      "source": [
        "# Plot the validation RMSE as a blue line with dots\n",
        "plt.plot(ridge_data['l2_penalty'], ridge_data['validation_rmse'], \n",
        "         'b-o', label='Validation')\n",
        "# Plot the train RMSE as a red line dots\n",
        "plt.plot(ridge_data['l2_penalty'], ridge_data['train_rmse'], \n",
        "         'r-o', label='Train')\n",
        "\n",
        "# Make the x-axis log scale for readability\n",
        "plt.xscale('log')\n",
        "\n",
        "# Label the axes and make a legend\n",
        "plt.xlabel('l2_penalty')\n",
        "plt.ylabel('RMSE')\n",
        "plt.legend()"
      ],
      "execution_count": null,
      "outputs": [
        {
          "output_type": "execute_result",
          "data": {
            "text/plain": [
              "<matplotlib.legend.Legend at 0x7f8d8b8e1490>"
            ]
          },
          "metadata": {},
          "execution_count": 13
        },
        {
          "output_type": "display_data",
          "data": {
            "image/png": "[encoded data removed]",
            "text/plain": [
              "<Figure size 432x288 with 1 Axes>"
            ]
          },
          "metadata": {
            "needs_background": "light"
          }
        }
      ]
    },
    {
      "cell_type": "markdown",
      "metadata": {
        "id": "cm7O_q2qie36"
      },
      "source": [
        "Next, we want to actually look at which model we think will perform best. First we define a helper function that will be used to inspect the model parameters."
      ]
    },
    {
      "cell_type": "code",
      "metadata": {
        "id": "ypHtM2zfie37"
      },
      "source": [
        "def print_coefficients(model, features):\n",
        "    \"\"\"\n",
        "    This function takes in a model column and a features column. \n",
        "    And prints the coefficient along with its feature name.\n",
        "    \"\"\"\n",
        "    feats = list(zip(model.coef_, features))\n",
        "    print(*feats, sep = \"\\n\")"
      ],
      "execution_count": null,
      "outputs": []
    },
    {
      "cell_type": "markdown",
      "metadata": {
        "id": "vYQrhnlnie3-"
      },
      "source": [
        "In the cell below, write code that uses the `ridge_data` `DataFrame` to select which L2 penalty we would choose based on the evaluations we did in the previous section. You should print out the following values to help you answer the next questions! \n",
        "* The best L2 penalty based on the model evaluations\n",
        "* Take the best model and evaluate its error on the **test** dataset. Report the number as an RMSE.\n",
        "* Call the `print_coefficients` function passing in the model itself and the features used so you can look at all of its coefficient values.\n",
        "\n",
        "To do this in `pandas`, you'll need to use the `idxmin()` function to find the index of the smallest value in a column and the `loc` property to access that index. As an example, suppose we had a `DataFrame` named `df`:\n",
        "\n",
        "| a | b | c |\n",
        "|---|---|---|\n",
        "| 1 | 2 | 3 |\n",
        "| 2 | 1 | 3 |\n",
        "| 3 | 2 | 1 |\n",
        "\n",
        "If we wrote the code \n",
        "```python\n",
        "index = df['b'].idxmin()\n",
        "row = df.loc[index]\n",
        "```\n",
        "\n",
        "It would first find the index of the smallest value in the `b` column and then uses the `.loc` property of the `DataFrame` to access that particular row. It will return a `Series` object (basically a Python dictionary) which means you can use syntax like `row['a']` to access a particular column of that row."
      ]
    },
    {
      "cell_type": "code",
      "metadata": {
        "id": "jDXEkKGbie3_",
        "outputId": "64a4153e-fbfa-41ce-d202-49068229b9d7",
        "colab": {
          "base_uri": "https://localhost:8080/"
        }
      },
      "source": [
        "# ridge_data.append({\n",
        "#         'l2_penalty': l2_penalty,\n",
        "#         'model': model,\n",
        "#         'train_rmse': train_rmse,\n",
        "#         'validation_rmse': validation_rmse})\n",
        "\n",
        "# TODO Print information about best L2 model\n",
        "index = ridge_data['validation_rmse'].idxmin()\n",
        "best_ridge = ridge_data.loc[index]#TODO: Which model has the lowest RMSE on the validation set?\n",
        "y_pred_test = best_ridge['model'].predict(X_test)\n",
        "\n",
        "test_rmse = math.sqrt(mean_squared_error(y_test, y_pred_test)) # TODO: compute the RMSE on the Test set.\n",
        "print('Best L2 Penalty', best_ridge['l2_penalty'])\n",
        "print('TEST RMSE', test_rmse)\n",
        "print_coefficients(best_ridge['model'], all_features) "
      ],
      "execution_count": null,
      "outputs": [
        {
          "output_type": "stream",
          "name": "stdout",
          "text": [
            "Best L2 Penalty 10.0\n",
            "TEST RMSE 626479.191939315\n",
            "(-12814.960695689748, 'bedrooms')\n",
            "(-5578.58562755392, 'bedrooms_square')\n",
            "(-19987.878641088646, 'bedrooms_sqrt')\n",
            "(-261.2331046005436, 'bathrooms')\n",
            "(139717.20930550515, 'bathrooms_square')\n",
            "(-50659.47327155908, 'bathrooms_sqrt')\n",
            "(23125.50416726878, 'sqft_living')\n",
            "(19304.65519120802, 'sqft_living_square')\n",
            "(14413.31922599656, 'sqft_living_sqrt')\n",
            "(18909.07641753274, 'sqft_lot')\n",
            "(21375.20111150273, 'sqft_lot_square')\n",
            "(-25079.695226768985, 'sqft_lot_sqrt')\n",
            "(-15962.664049881238, 'floors')\n",
            "(13961.951626360678, 'floors_square')\n",
            "(-27220.383772045923, 'floors_sqrt')\n",
            "(43800.14749775992, 'waterfront')\n",
            "(43800.147497760336, 'waterfront_square')\n",
            "(43800.14749776029, 'waterfront_sqrt')\n",
            "(-7513.023932352359, 'view')\n",
            "(11529.923304894017, 'view_square')\n",
            "(-12278.67285084605, 'view_sqrt')\n",
            "(4224.607744785577, 'condition')\n",
            "(4624.595688989772, 'condition_square')\n",
            "(4026.45544462523, 'condition_sqrt')\n",
            "(44871.77670857457, 'grade')\n",
            "(73624.90237512332, 'grade_square')\n",
            "(31314.956423923228, 'grade_sqrt')\n",
            "(22432.11950301662, 'sqft_above')\n",
            "(40851.914370094986, 'sqft_above_square')\n",
            "(1391.5234697641665, 'sqft_above_sqrt')\n",
            "(1331.3789329041192, 'sqft_basement')\n",
            "(-35037.04738328038, 'sqft_basement_square')\n",
            "(25425.774550790993, 'sqft_basement_sqrt')\n",
            "(-26030.276413735864, 'yr_built')\n",
            "(-25617.78684676185, 'yr_built_square')\n",
            "(-26232.134439889072, 'yr_built_sqrt')\n",
            "(4718.090111503858, 'yr_renovated')\n",
            "(5102.806925372955, 'yr_renovated_square')\n",
            "(4514.904467763998, 'yr_renovated_sqrt')\n"
          ]
        }
      ]
    },
    {
      "cell_type": "markdown",
      "metadata": {
        "id": "U_Ic4imZie4B"
      },
      "source": [
        " **Question A:**  Based on your evaluations, which L2 penalty would you use?\n",
        "\n",
        "*I would choose a L2 penalty of 10*\n",
        "\n",
        " **Question B:**  For the model you chose for the Q2, what is its test RMSE?\n",
        "\n",
        "*The test RMSE is 626479.19*\n",
        "\n",
        " **Question C:**  For the model you chose in Q2, what is the number of features that have coefficient 0?\n",
        "\n",
        "*We have no features with coefficients of 0*\n",
        "\n"
      ]
    },
    {
      "cell_type": "markdown",
      "metadata": {
        "id": "KgVrfrxYie4C"
      },
      "source": [
        "--- \n",
        "### Part 5: LASSO Regression (5 pts)\n",
        "In this section you will do basically the exact same analysis you did with Ridge Regression, but using LASSO Regression instead. Remember that for LASSO we choose the parameters that minimize this quality metric instead \n",
        "\n",
        "$$\\hat{w}_{LASSO} = \\min_w RSS(w) + \\lambda \\left\\lVert w \\right\\rVert_1$$\n",
        "\n",
        "where $\\left\\lVert w \\right\\rVert_1 = \\sum_{j=0}^D | w_j |$ is the L1 norm of the parameter vector.\n",
        "\n",
        "We will use the same set of instructions for LASSO as we did for Ridge, except for the following differences. Please refer back to the Ridge Regression instructions and your code to see how these differences fit in!\n",
        "\n",
        "* Use the [Lasso](https://scikit-learn.org/stable/modules/generated/sklearn.linear_model.Lasso.html#sklearn.linear_model.Lasso) model. Like before, the only parameters you need to pass in are `alpha` for the L1 penalty and `random_state=0`.\n",
        "* The range L1 penalties should be $[10, 10^2, ..., 10^7]$. In Python, this is `np.logspace(1, 7, num=7)`.\n",
        "* The result should be stored in a `DataFrame` named `lasso_data`. All the columns should have the same name and corresponding values except the penalty column should be called `l1_penalty`.\n",
        "* It is okay if your code prints some `ConvergenceWarning` warnings, these should not impact your results!.\n",
        "\n",
        "You do not need to worry about your code being redundant for this part."
      ]
    },
    {
      "cell_type": "code",
      "metadata": {
        "id": "KNai1N-Bie4D",
        "outputId": "4bb94a7a-dafb-49ee-90a5-cf692281ce55",
        "colab": {
          "base_uri": "https://localhost:8080/"
        }
      },
      "source": [
        "# TODO: Compute a lasso regression. See the Ridge Regression section for a model of what to do here\n",
        "import numpy as np\n",
        "from sklearn.linear_model import Lasso\n",
        "from sklearn.metrics import mean_squared_error\n",
        "\n",
        "l1_penalties = np.logspace(1, 7, num=7) # TODO: make the list of lambda values\n",
        "lasso_data = []\n",
        "\n",
        "for l1_penalty in l1_penalties:\n",
        "    print(l1_penalty)\n",
        "    model = Lasso(alpha= l1_penalty, random_state = 0)\n",
        "    model.fit(X_train,y_train)\n",
        "    y_pred = model.predict(X_train)\n",
        "    y_pred_val = model.predict(X_val)\n",
        "\n",
        "    train_rmse = math.sqrt(mean_squared_error(y_train, y_pred)) # TODO: compute RMSE on the train set\n",
        "    validation_rmse = math.sqrt(mean_squared_error(y_val, y_pred_val)) # TODO: compute RMSE on the validation set\n",
        "    \n",
        "    # We maintain a list of dictionaries containing our results\n",
        "    lasso_data.append({\n",
        "        'l1_penalty': l1_penalty,\n",
        "        'model': model,\n",
        "        'train_rmse': train_rmse,\n",
        "        'validation_rmse': validation_rmse})\n",
        "    \n",
        "lasso_data = pd.DataFrame(lasso_data) # We will put this data into a datframe to make it easier to use later.\n",
        "print(lasso_data)"
      ],
      "execution_count": null,
      "outputs": [
        {
          "output_type": "stream",
          "name": "stdout",
          "text": [
            "10.0\n",
            "100.0\n",
            "1000.0\n",
            "10000.0\n",
            "100000.0\n",
            "1000000.0\n",
            "10000000.0\n",
            "   l1_penalty  ... validation_rmse\n",
            "0        10.0  ...   574102.178744\n",
            "1       100.0  ...   561653.281862\n",
            "2      1000.0  ...   536906.548347\n",
            "3     10000.0  ...   555771.690167\n",
            "4    100000.0  ...   643989.904483\n",
            "5   1000000.0  ...   802207.512615\n",
            "6  10000000.0  ...   802207.512615\n",
            "\n",
            "[7 rows x 4 columns]\n"
          ]
        },
        {
          "output_type": "stream",
          "name": "stderr",
          "text": [
            "/usr/local/lib/python3.7/dist-packages/sklearn/linear_model/_coordinate_descent.py:648: ConvergenceWarning: Objective did not converge. You might want to increase the number of iterations, check the scale of the features or consider increasing regularisation. Duality gap: 1.653e+12, tolerance: 1.913e+09\n",
            "  coef_, l1_reg, l2_reg, X, y, max_iter, tol, rng, random, positive\n",
            "/usr/local/lib/python3.7/dist-packages/sklearn/linear_model/_coordinate_descent.py:648: ConvergenceWarning: Objective did not converge. You might want to increase the number of iterations, check the scale of the features or consider increasing regularisation. Duality gap: 1.000e+12, tolerance: 1.913e+09\n",
            "  coef_, l1_reg, l2_reg, X, y, max_iter, tol, rng, random, positive\n",
            "/usr/local/lib/python3.7/dist-packages/sklearn/linear_model/_coordinate_descent.py:648: ConvergenceWarning: Objective did not converge. You might want to increase the number of iterations, check the scale of the features or consider increasing regularisation. Duality gap: 2.343e+09, tolerance: 1.913e+09\n",
            "  coef_, l1_reg, l2_reg, X, y, max_iter, tol, rng, random, positive\n"
          ]
        }
      ]
    },
    {
      "cell_type": "markdown",
      "metadata": {
        "id": "uFAkG4Loie4G"
      },
      "source": [
        "Here is a sanity check like before."
      ]
    },
    {
      "cell_type": "code",
      "metadata": {
        "id": "eiQ7xWYUie4G"
      },
      "source": [
        "assert type(lasso_data) == pd.DataFrame\n",
        "assert len(lasso_data) == 7\n",
        "\n",
        "for col in ['l1_penalty', 'model', 'train_rmse', 'validation_rmse']:\n",
        "    assert col in lasso_data.columns, f'Missing column {col}'"
      ],
      "execution_count": null,
      "outputs": []
    },
    {
      "cell_type": "markdown",
      "metadata": {
        "id": "cJu6d6QLie4J"
      },
      "source": [
        "### Part 6:  Investigating Lasso ( 5 pts)\n",
        "\n",
        "Like before, let's look at how the L1 penalty affects the performance."
      ]
    },
    {
      "cell_type": "code",
      "metadata": {
        "id": "LK2KHst0ie4J",
        "outputId": "62ef77f2-4b49-4639-be7d-98cd0d89875a",
        "colab": {
          "base_uri": "https://localhost:8080/",
          "height": 302
        }
      },
      "source": [
        "# Plot the validation RMSE as a blue line with dots\n",
        "\n",
        "plt.plot(lasso_data['l1_penalty'], lasso_data['validation_rmse'],\n",
        "         'b-o', label='Validation')\n",
        "\n",
        "# Plot the train RMSE as a red line dots\n",
        "plt.plot(lasso_data['l1_penalty'], lasso_data['train_rmse'],\n",
        "         'r-o', label='Train')\n",
        "\n",
        "# Make the x-axis log scale for readability\n",
        "plt.xscale('log')\n",
        "\n",
        "# Label the axes and make a legend\n",
        "plt.xlabel('l1_penalty')\n",
        "plt.ylabel('RMSE')\n",
        "plt.legend()"
      ],
      "execution_count": null,
      "outputs": [
        {
          "output_type": "execute_result",
          "data": {
            "text/plain": [
              "<matplotlib.legend.Legend at 0x7f8d8b25b390>"
            ]
          },
          "metadata": {},
          "execution_count": 22
        },
        {
          "output_type": "display_data",
          "data": {
            "image/png": "[encoded data removed]",
            "text/plain": [
              "<Figure size 432x288 with 1 Axes>"
            ]
          },
          "metadata": {
            "needs_background": "light"
          }
        }
      ]
    },
    {
      "cell_type": "markdown",
      "metadata": {
        "id": "kZD2YVJVie4N"
      },
      "source": [
        "Like before, in the cell below, write code that uses the `lasso_data` `DataFrame` to select which L1 penalty we would choose based on the evaluations we did in the previous section. You should print out the following values to help you answer the next questions! \n",
        "* The best L1 penalty based on the model evaluations\n",
        "* Take the best model and evaluate it on the test dataset and report its RMSE\n",
        "* Call the `print_coefficients` function passing in the model itself and the features used so you can look at all of its coefficient values. Note some of the values are `-0.0` which is the same as `0.0` for our purposes."
      ]
    },
    {
      "cell_type": "code",
      "metadata": {
        "id": "XNggOYdSie4O",
        "outputId": "0d8375d0-6e83-421d-dc99-b3886fab1e94",
        "colab": {
          "base_uri": "https://localhost:8080/"
        }
      },
      "source": [
        "# TODO : What is the best lambda value to use? Print the values from above\n",
        "index = lasso_data['validation_rmse'].idxmin()\n",
        "\n",
        "model = best_lasso['model']\n",
        "model.fit(X_train, y_train)\n",
        "predict_test = model.predict(X_test)\n",
        "best_lasso = lasso_data.loc[index] # TODO\n",
        "test_rmse = math.sqrt(mean_squared_error(y_test, predict_test)) # TODO \n",
        "print('Best L1 Penalty', best_lasso['l1_penalty'])\n",
        "print('TEST RMSE', test_rmse)\n",
        "print_coefficients(best_lasso['model'], all_features)"
      ],
      "execution_count": null,
      "outputs": [
        {
          "output_type": "stream",
          "name": "stdout",
          "text": [
            "Best L1 Penalty 1000.0\n",
            "TEST RMSE 632259.577639702\n",
            "(-0.0, 'bedrooms')\n",
            "(-26062.072706583123, 'bedrooms_square')\n",
            "(-13168.48073855585, 'bedrooms_sqrt')\n",
            "(-26032.24899731306, 'bathrooms')\n",
            "(234001.09464515498, 'bathrooms_square')\n",
            "(-128285.03553762606, 'bathrooms_sqrt')\n",
            "(0.0, 'sqft_living')\n",
            "(-0.0, 'sqft_living_square')\n",
            "(99795.65838300061, 'sqft_living_sqrt')\n",
            "(71087.39322963884, 'sqft_lot')\n",
            "(0.0, 'sqft_lot_square')\n",
            "(-59249.925115629594, 'sqft_lot_sqrt')\n",
            "(-0.0, 'floors')\n",
            "(19590.52966922941, 'floors_square')\n",
            "(-49684.08521691517, 'floors_sqrt')\n",
            "(135069.2054741631, 'waterfront')\n",
            "(0.0, 'waterfront_square')\n",
            "(0.0, 'waterfront_sqrt')\n",
            "(-0.0, 'view')\n",
            "(474.070469125082, 'view_square')\n",
            "(-9085.05047578395, 'view_sqrt')\n",
            "(11852.073361063814, 'condition')\n",
            "(0.0, 'condition_square')\n",
            "(5550.624625552447, 'condition_sqrt')\n",
            "(0.0, 'grade')\n",
            "(147571.67381741997, 'grade_square')\n",
            "(0.0, 'grade_sqrt')\n",
            "(0.0, 'sqft_above')\n",
            "(32841.90056200978, 'sqft_above_square')\n",
            "(0.0, 'sqft_above_sqrt')\n",
            "(0.0, 'sqft_basement')\n",
            "(-47520.696968686, 'sqft_basement_square')\n",
            "(24793.415922608656, 'sqft_basement_sqrt')\n",
            "(-57115.24288430111, 'yr_built')\n",
            "(-0.0, 'yr_built_square')\n",
            "(-8892.479045201224, 'yr_built_sqrt')\n",
            "(3897.5539237661224, 'yr_renovated')\n",
            "(18120.38271493947, 'yr_renovated_square')\n",
            "(0.0, 'yr_renovated_sqrt')\n"
          ]
        },
        {
          "output_type": "stream",
          "name": "stderr",
          "text": [
            "/usr/local/lib/python3.7/dist-packages/sklearn/linear_model/_coordinate_descent.py:648: ConvergenceWarning: Objective did not converge. You might want to increase the number of iterations, check the scale of the features or consider increasing regularisation. Duality gap: 2.343e+09, tolerance: 1.913e+09\n",
            "  coef_, l1_reg, l2_reg, X, y, max_iter, tol, rng, random, positive\n"
          ]
        }
      ]
    },
    {
      "cell_type": "markdown",
      "metadata": {
        "id": "fJdbBh1hie4Q"
      },
      "source": [
        "**Question E:** Based on your evaluations, which L1 penalty would you use?\n",
        "*Best L1 penalty was 1000*\n",
        "\n",
        "**Question F:** For the model you chose, what is the test RMSE?\n",
        "*The test RMSE is 626479.19*\n",
        "\n",
        "**Question G:** For the model you chose, what Features did it choose to keep? I.e. for what features was the coefficient not 0?\n",
        "\n",
        "* The following coefficients were not 0: bedrooms_square, bedrooms_sqrt, bathrooms_square, bathrooms_sqrt, sqft_living_sqrt, sqft_lot, sqft_lot_sqrt, floors_square, floors_sqrt, waterfront, view_square, view_sqrt, condition, condition_sqrt, grade_square, sqft_above_square, sqft_basement_square, sqft_basement_sqrt, yr_built, yr_built_sqrt, yr_renovated, yr_renovated_square\n",
        "\n",
        "**Question H:**: Based on our experiments, which model do we expect to perform best in the future? LinearRegression? Ridge? Lasso? None of the above?\n",
        "* Lasso*"
      ]
    }
  ]
}