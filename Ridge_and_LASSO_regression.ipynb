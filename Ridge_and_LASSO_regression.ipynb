{
  "nbformat": 4,
  "nbformat_minor": 0,
  "metadata": {
    "kernelspec": {
      "display_name": "Python 3",
      "language": "python",
      "name": "python3"
    },
    "language_info": {
      "codemirror_mode": {
        "name": "ipython",
        "version": 3
      },
      "file_extension": ".py",
      "mimetype": "text/x-python",
      "name": "python",
      "nbconvert_exporter": "python",
      "pygments_lexer": "ipython3",
      "version": "3.6.7"
    },
    "colab": {
      "name": "Assignment 3: Ridge-and-LASSO.ipynb",
      "provenance": [],
      "collapsed_sections": [],
      "toc_visible": true,
      "include_colab_link": true
    }
  },
  "cells": [
    {
      "cell_type": "markdown",
      "metadata": {
        "id": "view-in-github",
        "colab_type": "text"
      },
      "source": [
        "<a href=\"https://colab.research.google.com/github/risha-gandhi/machine-learning-assignments/blob/main/Ridge_and_LASSO_regression.ipynb\" target=\"_parent\"><img src=\"https://colab.research.google.com/assets/colab-badge.svg\" alt=\"Open In Colab\"/></a>"
      ]
    },
    {
      "cell_type": "code",
      "metadata": {
        "id": "qc_6Yf8fie3X"
      },
      "source": [
        "import pandas as pd\n",
        "import numpy as np\n",
        "import matplotlib.pyplot as plt\n",
        "\n",
        "%matplotlib inline"
      ],
      "execution_count": null,
      "outputs": []
    },
    {
      "cell_type": "markdown",
      "metadata": {
        "id": "SsbjWKiiie3b"
      },
      "source": [
        "### Part 1: Load and prep the data (5 pts)"
      ]
    },
    {
      "cell_type": "markdown",
      "metadata": {
        "id": "Im-hZ_Aqie3c"
      },
      "source": [
        "\n",
        "In this assignment we'll look at the affect of using regularization on linear regression models that we train. You will write code to train models that use different regularizers and different penalties and to analyze how this affects the model.\n",
        "\n",
        "For this assignment, we will only be using a very small subset of the data to do our analysis. This is not something you would usually do in practice, but is something we do for this assignment to simplify this complexity of this dataset. The data is pretty noisy and to get meaningful results to demonstrate the theoretical behavior, you would need to use a much more complicated set of features that would be a bit more tedious to work with.\n",
        "\n",
        "Use ``home_data.csv.``"
      ]
    },
    {
      "cell_type": "code",
      "metadata": {
        "id": "sxovDo9Kie3d"
      },
      "source": [
        "# TODO: Load the data using pandas - you can look at Assignment 1 if you have forgotten how to do this.\n",
        "\n",
        "# Selects 1% of the data\n",
        "sales = sales.sample(frac=0.01, random_state=0) \n",
        "\n",
        "print(f'Number of points: {len(sales)}')\n",
        "sales.head()"
      ],
      "execution_count": null,
      "outputs": []
    },
    {
      "cell_type": "markdown",
      "metadata": {
        "id": "vz5zhMH1ie3h"
      },
      "source": [
        "First, we do a bit of feature engineering by creating features that represent the squares of each feature and the square root of each feature. One benefit of using regularization is you can include more features than necessary and you don't have to be as worried about overfitting since the model is regularized."
      ]
    },
    {
      "cell_type": "code",
      "metadata": {
        "id": "O3-mJSjVie3h"
      },
      "source": [
        "from math import sqrt\n",
        "\n",
        "# All of the features of interest\n",
        "features = [\n",
        "    'bedrooms', \n",
        "    'bathrooms',\n",
        "    'sqft_living', \n",
        "    'sqft_lot', \n",
        "    'floors', \n",
        "    'waterfront', \n",
        "    'view', \n",
        "    'condition', \n",
        "    'grade',\n",
        "    'sqft_above',\n",
        "    'sqft_basement',\n",
        "    'yr_built', \n",
        "    'yr_renovated'\n",
        "]\n",
        "\n",
        "# Compute the square and sqrt of each feature\n",
        "all_features = []\n",
        "for feat in features:\n",
        "    square_feat = feat + '_square'\n",
        "    sqrt_feat = feat + '_sqrt'\n",
        "    \n",
        "    sales[square_feat] = sales[feat] ** 2\n",
        "    sales[sqrt_feat] = sales[feat].apply(sqrt)\n",
        "    \n",
        "    all_features.extend([feat, square_feat, sqrt_feat])\n",
        "    \n",
        "print(sales.head())\n",
        "\n",
        "X = sales[all_features]\n",
        "y = sales['price']"
      ],
      "execution_count": null,
      "outputs": []
    },
    {
      "cell_type": "markdown",
      "metadata": {
        "id": "nUjAXbHGie3k"
      },
      "source": [
        "Next, we will split the data set into training, validation, and test sets. For this assignment we will use 70% of the data to train, 10% for validation, and 20% to test. \n",
        "\n",
        "We have written most of the splitting for you, but we need you to figure out what the sizes should be in this case based off the numbers above. Remember, we use `random_state=6` to make sure the results are the same for everyone on this assignment. \n",
        "*Hint: You should print out the length of the datasets to make sure you got it right!*"
      ]
    },
    {
      "cell_type": "code",
      "metadata": {
        "id": "uqF3MC6bie3k"
      },
      "source": [
        "# TODO Make train/test splits of the right size.\n",
        "from sklearn.model_selection import train_test_split\n",
        "X_train_and_validation, X_test, y_train_and_validation, y_test  =  # TODO: Make the test set 20%\n",
        "X_train, X_val, y_train, y_val = # TODO: Make the val set 10% of the total data (not 10% of X_train_and_validation)\n",
        "print(X_train.shape, X_val.shape, X_test.shape)"
      ],
      "execution_count": null,
      "outputs": []
    },
    {
      "cell_type": "markdown",
      "metadata": {
        "id": "9Jk7GvKhie3o"
      },
      "source": [
        "We first need to do a little bit more pre-processing to prepare the data for model training. Models like Ridge and LASSO assume the input features are standardized (mean 0, std. dev. 1) and the target values are centered (mean 0). If we do not do this, we might get some unpredictable results since we violate the assumption of the models!\n",
        "\n",
        "We can use Sklearn's Standard scaler to do this - for each feature we learn the mean $\\mu$ and standard deviation $\\sigma$ and then rescale that feature for each point. Ie., if that feature used to be $x$ it is now $\\frac{x - \\mu}{s}$.\n",
        "\n",
        "See [StandardScaler](https://scikit-learn.org/stable/modules/generated/sklearn.preprocessing.StandardScaler.html) for more info. Note that we learn it on the training set and then apply it to the validation set and test set. We also center the depenent variable $y$-values."
      ]
    },
    {
      "cell_type": "code",
      "metadata": {
        "id": "TKJnzMt1ie3p"
      },
      "source": [
        "from sklearn.preprocessing import StandardScaler\n",
        "\n",
        "scaler = StandardScaler()\n",
        "\n",
        "X_train = scaler.fit_transform(X_train)\n",
        "y_train = y_train - np.mean(y_train)\n",
        "\n",
        "X_test = scaler.transform(X_test)\n",
        "y_test = y_test - np.mean(y_train)\n",
        "\n",
        "X_val = scaler.transform(X_val)\n",
        "y_val = y_val - np.mean(y_train)"
      ],
      "execution_count": null,
      "outputs": []
    },
    {
      "cell_type": "markdown",
      "metadata": {
        "id": "LqtmxHfqie3s"
      },
      "source": [
        "### Part 2: Linear Regression (5 pts)\n",
        "As a baseline, we will first, train a regular `LinearRegression` model on the data using the features in `all_features` and compute its **test RMSE** . The RMSE is the square root of the mean squared error. "
      ]
    },
    {
      "cell_type": "code",
      "metadata": {
        "id": "D02psSd4ie3s"
      },
      "source": [
        "# TODO Train a linear regression model - you may need to import LinearRegression and mean_squared_error from sklearn\n",
        "\n",
        "\n",
        "# TODO - compute and compare the RMSE on the train and test data.\n",
        "train_rmse = \n",
        "test_rmse = \n",
        "print('Train', train_rmse)\n",
        "print('Test', test_rmse)"
      ],
      "execution_count": null,
      "outputs": []
    },
    {
      "cell_type": "markdown",
      "metadata": {
        "id": "0jyZ9qvvie3w"
      },
      "source": [
        "--- \n",
        "### Part 3: Ridge Regression (10pts)\n",
        "\n",
        "\n",
        "In this section, we will do some **hyper-parameter tuning** to find the optimal setting of the regularization constant $\\lambda$ for Ridge Regression. Remember that $\\lambda$ is the coefficient that controls how much the model is penalized for having large weights in the optimization function.\n",
        "\n",
        "$\\hat{w}_{ridge} = \\min_w RSS(w) + \\lambda \\left\\lVert w \\right\\rVert_2^2$\n",
        "\n",
        "where $\\left\\lVert w \\right\\rVert_2^2 = \\sum_{j=0}^D w_j^2$ is the L2 norm of the parameters. By default, `sklearn`'s `Ridge` class does not regularize the intercept - you should never regularize the intercept\n",
        "\n",
        "For this part of the assignment, you will be writing code to find the optimal setting of the penalty $\\lambda$. Below, we describe what steps you will want to have in your code to compute these values:\n",
        "\n",
        "*Implementation Details*\n",
        "* Use the following choices of L2 penalty: $[10^{-5}, 10^{-4}, ..., 10^4, 10^5]$. In Python, you can create a list of these numbers using `np.logspace(-5, 5, 11)`. \n",
        "* Use the [Ridge](https://scikit-learn.org/stable/modules/generated/sklearn.linear_model.Ridge.html#sklearn.linear_model.Ridge) class from sklearn to train a Ridge Regression model on the **training** data. The **only** parameters you need to pass when constructing the Ridge model are `alpha`, which lets you specify what you want the L2 penalty to be, and `random_state=0` to avoid randomness.\n",
        "* Evaluate both the training error and the validation error for the model by reporting the RMSE of each dataset.\n",
        "* Put all of your results in a pandas `DataFrame` named `ridge_data` so you can analyze them later. The `ridge_data` should have a row for each L2 penalty you tried and should have the following columns:\n",
        "  * `l2_penalty`: The L2 penalty for that row\n",
        "  * `model`: The actual `Ridge` model object that was trained with that L2 penalty\n",
        "  * `train_rmse`: The training RMSE for that model\n",
        "  * `validation_rmse`: The validation RMSE for that model\n",
        "\n",
        "*Hints: Here is a  strategy that you might find helpful*\n",
        "* You will need a loop to loop over the possible L2 penalties. Try writing a lot of the code without a loop first if you're stuck to help you figure out how the pieces go together. You can safely ignore building up the result `DataFrame` at first, just print all the information out to start! \n",
        "* If you are running into troubles writing your loop, try to print values out to investigate what's going wrong.\n",
        "* Remember to use RMSE for calculating the error!\n"
      ]
    },
    {
      "cell_type": "code",
      "metadata": {
        "id": "G8J4dgYwie3w"
      },
      "source": [
        "# TODO \n",
        "from sklearn.linear_model import Ridge\n",
        "from sklearn.metrics import mean_squared_error\n",
        "\n",
        "l2_penalties = # TODO: make the list of lambda values\n",
        "ridge_data = []\n",
        "\n",
        "for l2_penalty in l2_penalties:\n",
        "    print(l2_penalty)\n",
        "    model = #TODO: Train a Ridge regression model using Ridge in sklearn. Remember that alpha is the lambda parameter from class. Use random_state=0\n",
        "\n",
        "    train_rmse =  #TODO: compute RMSE on the train set\n",
        "    validation_rmse =  # TODO: compute RMSE on the validation set\n",
        "    \n",
        "    # We maintain a list of dictionaries containing our results\n",
        "    ridge_data.append({\n",
        "        'l2_penalty': l2_penalty,\n",
        "        'model': model,\n",
        "        'train_rmse': train_rmse,\n",
        "        'validation_rmse': validation_rmse})\n",
        "    \n",
        "ridge_data = pd.DataFrame(ridge_data) # We will put this data into a datframe to make it easier to use later.\n",
        "print(ridge_data)"
      ],
      "execution_count": null,
      "outputs": []
    },
    {
      "cell_type": "markdown",
      "metadata": {
        "id": "HlepJn1Wie3z"
      },
      "source": [
        "As a sanity check, the cells below make sure you have a variable named `ridge_data` with the right number of rows and columns. If nothing is printed out, you pass this sanity check! "
      ]
    },
    {
      "cell_type": "code",
      "metadata": {
        "id": "pcWmH5ytie30"
      },
      "source": [
        "assert type(ridge_data) == pd.DataFrame\n",
        "assert len(ridge_data) == 11\n",
        "\n",
        "for col in ['l2_penalty', 'model', 'train_rmse', 'validation_rmse']:\n",
        "    assert col in ridge_data.columns, f'Missing column {col}'"
      ],
      "execution_count": null,
      "outputs": []
    },
    {
      "cell_type": "markdown",
      "metadata": {
        "id": "zm3ruRpbie33"
      },
      "source": [
        "### Part 4: Investigating Ridge Regression Results (5pts)\n",
        "\n",
        "Next, let's investigate how the penalty affected the train and validation error by running the following plotting code"
      ]
    },
    {
      "cell_type": "code",
      "metadata": {
        "id": "p7N9wjsRie33"
      },
      "source": [
        "# Plot the validation RMSE as a blue line with dots\n",
        "plt.plot(ridge_data['l2_penalty'], ridge_data['validation_rmse'], \n",
        "         'b-o', label='Validation')\n",
        "# Plot the train RMSE as a red line dots\n",
        "plt.plot(ridge_data['l2_penalty'], ridge_data['train_rmse'], \n",
        "         'r-o', label='Train')\n",
        "\n",
        "# Make the x-axis log scale for readability\n",
        "plt.xscale('log')\n",
        "\n",
        "# Label the axes and make a legend\n",
        "plt.xlabel('l2_penalty')\n",
        "plt.ylabel('RMSE')\n",
        "plt.legend()"
      ],
      "execution_count": null,
      "outputs": []
    },
    {
      "cell_type": "markdown",
      "metadata": {
        "id": "cm7O_q2qie36"
      },
      "source": [
        "Next, we want to actually look at which model we think will perform best. First we define a helper function that will be used to inspect the model parameters."
      ]
    },
    {
      "cell_type": "code",
      "metadata": {
        "id": "ypHtM2zfie37"
      },
      "source": [
        "def print_coefficients(model, features):\n",
        "    \"\"\"\n",
        "    This function takes in a model column and a features column. \n",
        "    And prints the coefficient along with its feature name.\n",
        "    \"\"\"\n",
        "    feats = list(zip(model.coef_, features))\n",
        "    print(*feats, sep = \"\\n\")"
      ],
      "execution_count": null,
      "outputs": []
    },
    {
      "cell_type": "markdown",
      "metadata": {
        "id": "vYQrhnlnie3-"
      },
      "source": [
        "In the cell below, write code that uses the `ridge_data` `DataFrame` to select which L2 penalty we would choose based on the evaluations we did in the previous section. You should print out the following values to help you answer the next questions! \n",
        "* The best L2 penalty based on the model evaluations\n",
        "* Take the best model and evaluate its error on the **test** dataset. Report the number as an RMSE.\n",
        "* Call the `print_coefficients` function passing in the model itself and the features used so you can look at all of its coefficient values.\n",
        "\n",
        "To do this in `pandas`, you'll need to use the `idxmin()` function to find the index of the smallest value in a column and the `loc` property to access that index. As an example, suppose we had a `DataFrame` named `df`:\n",
        "\n",
        "| a | b | c |\n",
        "|---|---|---|\n",
        "| 1 | 2 | 3 |\n",
        "| 2 | 1 | 3 |\n",
        "| 3 | 2 | 1 |\n",
        "\n",
        "If we wrote the code \n",
        "```python\n",
        "index = df['b'].idxmin()\n",
        "row = df.loc[index]\n",
        "```\n",
        "\n",
        "It would first find the index of the smallest value in the `b` column and then uses the `.loc` property of the `DataFrame` to access that particular row. It will return a `Series` object (basically a Python dictionary) which means you can use syntax like `row['a']` to access a particular column of that row."
      ]
    },
    {
      "cell_type": "code",
      "metadata": {
        "id": "jDXEkKGbie3_"
      },
      "source": [
        "# TODO Print information about best L2 model\n",
        "best_ridge = #TODO: Which model has the lowest RMSE on the validation set?\n",
        "test_rmse = # TODO: compute the RMSE on the Test set.\n",
        "print('Best L2 Penalty', best_ridge['l2_penalty'])\n",
        "print('TEST RMSE', test_rmse)\n",
        "print_coefficients(best_ridge['model'], all_features) "
      ],
      "execution_count": null,
      "outputs": []
    },
    {
      "cell_type": "markdown",
      "metadata": {
        "id": "U_Ic4imZie4B"
      },
      "source": [
        " **Question A:**  Based on your evaluations, which L2 penalty would you use?\n",
        "\n",
        "*Your Answer Here*\n",
        "\n",
        " **Question B:**  For the model you chose for the Q2, what is its test RMSE?\n",
        "\n",
        "*Your Answer Here*\n",
        "\n",
        " **Question C:**  For the model you chose in Q2, what is the number of features that have coefficient 0?\n",
        "\n",
        "*Your Answer Here*\n",
        "\n"
      ]
    },
    {
      "cell_type": "markdown",
      "metadata": {
        "id": "KgVrfrxYie4C"
      },
      "source": [
        "--- \n",
        "### Part 5: LASSO Regression (5 pts)\n",
        "In this section you will do basically the exact same analysis you did with Ridge Regression, but using LASSO Regression instead. Remember that for LASSO we choose the parameters that minimize this quality metric instead \n",
        "\n",
        "$$\\hat{w}_{LASSO} = \\min_w RSS(w) + \\lambda \\left\\lVert w \\right\\rVert_1$$\n",
        "\n",
        "where $\\left\\lVert w \\right\\rVert_1 = \\sum_{j=0}^D | w_j |$ is the L1 norm of the parameter vector.\n",
        "\n",
        "We will use the same set of instructions for LASSO as we did for Ridge, except for the following differences. Please refer back to the Ridge Regression instructions and your code to see how these differences fit in!\n",
        "\n",
        "* Use the [Lasso](https://scikit-learn.org/stable/modules/generated/sklearn.linear_model.Lasso.html#sklearn.linear_model.Lasso) model. Like before, the only parameters you need to pass in are `alpha` for the L1 penalty and `random_state=0`.\n",
        "* The range L1 penalties should be $[10, 10^2, ..., 10^7]$. In Python, this is `np.logspace(1, 7, num=7)`.\n",
        "* The result should be stored in a `DataFrame` named `lasso_data`. All the columns should have the same name and corresponding values except the penalty column should be called `l1_penalty`.\n",
        "* It is okay if your code prints some `ConvergenceWarning` warnings, these should not impact your results!.\n",
        "\n",
        "You do not need to worry about your code being redundant for this part."
      ]
    },
    {
      "cell_type": "code",
      "metadata": {
        "id": "KNai1N-Bie4D"
      },
      "source": [
        "# TODO: Compute a lasso regression. See the Ridge Regression section for a model of what to do here"
      ],
      "execution_count": null,
      "outputs": []
    },
    {
      "cell_type": "markdown",
      "metadata": {
        "id": "uFAkG4Loie4G"
      },
      "source": [
        "Here is a sanity check like before."
      ]
    },
    {
      "cell_type": "code",
      "metadata": {
        "id": "eiQ7xWYUie4G"
      },
      "source": [
        "assert type(lasso_data) == pd.DataFrame\n",
        "assert len(lasso_data) == 7\n",
        "\n",
        "for col in ['l1_penalty', 'model', 'train_rmse', 'validation_rmse']:\n",
        "    assert col in lasso_data.columns, f'Missing column {col}'"
      ],
      "execution_count": null,
      "outputs": []
    },
    {
      "cell_type": "markdown",
      "metadata": {
        "id": "cJu6d6QLie4J"
      },
      "source": [
        "### Part 6:  Investigating Lasso ( 5 pts)\n",
        "\n",
        "Like before, let's look at how the L1 penalty affects the performance."
      ]
    },
    {
      "cell_type": "code",
      "metadata": {
        "id": "LK2KHst0ie4J"
      },
      "source": [
        "# Plot the validation RMSE as a blue line with dots\n",
        "\n",
        "plt.plot(lasso_data['l1_penalty'], lasso_data['validation_rmse'],\n",
        "         'b-o', label='Validation')\n",
        "\n",
        "# Plot the train RMSE as a red line dots\n",
        "plt.plot(lasso_data['l1_penalty'], lasso_data['train_rmse'],\n",
        "         'r-o', label='Train')\n",
        "\n",
        "# Make the x-axis log scale for readability\n",
        "plt.xscale('log')\n",
        "\n",
        "# Label the axes and make a legend\n",
        "plt.xlabel('l1_penalty')\n",
        "plt.ylabel('RMSE')\n",
        "plt.legend()"
      ],
      "execution_count": null,
      "outputs": []
    },
    {
      "cell_type": "markdown",
      "metadata": {
        "id": "kZD2YVJVie4N"
      },
      "source": [
        "Like before, in the cell below, write code that uses the `lasso_data` `DataFrame` to select which L1 penalty we would choose based on the evaluations we did in the previous section. You should print out the following values to help you answer the next questions! \n",
        "* The best L1 penalty based on the model evaluations\n",
        "* Take the best model and evaluate it on the test dataset and report its RMSE\n",
        "* Call the `print_coefficients` function passing in the model itself and the features used so you can look at all of its coefficient values. Note some of the values are `-0.0` which is the same as `0.0` for our purposes."
      ]
    },
    {
      "cell_type": "code",
      "metadata": {
        "id": "XNggOYdSie4O"
      },
      "source": [
        "# TODO : What is the best lambda value to use? Print the values from above\n",
        "best_lasso = # TODO\n",
        "test_rmse = # TODO \n",
        "print('Best L1 Penalty', best_lasso['l1_penalty'])\n",
        "print('TEST RMSE', test_rmse)\n",
        "print_coefficients(best_lasso['model'], all_features)"
      ],
      "execution_count": null,
      "outputs": []
    },
    {
      "cell_type": "markdown",
      "metadata": {
        "id": "fJdbBh1hie4Q"
      },
      "source": [
        "**Question E:** Based on your evaluations, which L1 penalty would you use?\n",
        "*Your answer here*\n",
        "\n",
        "**Question F:** For the model you chose, what is the test RMSE?\n",
        "\n",
        "\n",
        "**Question G:** For the model you chose, what Features did it choose to keep? I.e. for what features was the coefficient not 0?\n",
        "\n",
        "**Question H:**: Based on our experiments, which model do we expect to perform best in the future? LinearRegression? Ridge? Lasso? None of the above?"
      ]
    },
    {
      "cell_type": "markdown",
      "metadata": {
        "id": "bw09lknRie4R"
      },
      "source": [
        "---\n",
        "## [Optional Extra Cred] Grid Search (5 pts)"
      ]
    },
    {
      "cell_type": "markdown",
      "metadata": {
        "id": "YCtEwekhie4R"
      },
      "source": [
        "This section is not worth any points and you do not need to complete it. It is here if you have extra time and want to look at something a bit more advanced that you could use in practice.\n",
        "\n",
        "As we discused in lecture, there are pros to using Ridge and pros to using LASSO. ElasticNet is a model that allows you to use both and tune how much importance you put to one vs the other. The quality metric for ElasticNet is: \n",
        "\n",
        "$$\\hat{w}_{ElasticNet} = \\min_w RSS(w) + \\lambda_1 \\left\\lVert w \\right\\rVert_1 + \\lambda_2 \\left\\lVert w \\right\\rVert_2^2$$\n",
        "\n",
        "However, the `sklearn` implementation asks you to specify the paramters slightly differently. Instead of specifying a $\\lambda_1$ and $\\lambda_2$, they ask you to speciy `alpha` ($\\alpha$) and `l1_ratio` ($\\rho$).\n",
        "\n",
        "$$\\hat{w}_{ElasticNet} = \\min_w RSS(w) + \\alpha*\\rho \\left\\lVert w \\right\\rVert_1 + \\alpha*(1-\\rho) \\left\\lVert w \\right\\rVert_2^2$$\n",
        "\n",
        "Where $\\alpha$ is the penalty strength and $\\rho$ is the ratio of the penalty that goes to the L1 penalty vs the L2 penalty. $\\rho$ should be a number between 0 and 1.\n",
        "\n",
        "Grid Search is a process of tuning multiple hyper-parameters at the same time by using cross validation. It is essentially the same as what you did in the code above, but uses nested loops to try all possible pairs of settings.\n",
        "\n",
        "For this exercise, look at the documentation for [ElasticNet](https://scikit-learn.org/stable/modules/generated/sklearn.linear_model.Lasso.html#sklearn.linear_model.ElasticNet) and [GridSearchCV](https://scikit-learn.org/stable/modules/generated/sklearn.model_selection.GridSearchCV.html#sklearn.model_selection.GridSearchCV) to find the optimal settings of the hyper-parameters `alpha` and `l1_ratio`. \n",
        "\n",
        "\n",
        "*Some implemenation details*\n",
        "* Use $k$-fold cross validation with $k=4$.\n",
        "* Use $\\alpha$ with values `np.logspace(2,5,4)` and $\\rho$ (`l1_ratio`) with values `np.linspace(0,1,5)`.\n",
        "* At the end, print the best set of paramters found by grid search."
      ]
    },
    {
      "cell_type": "code",
      "metadata": {
        "id": "dL0fWbDZie4S"
      },
      "source": [
        "# Optional TODO\n",
        "from sklearn.linear_model import ElasticNet\n",
        "from sklearn.model_selection import GridSearchCV\n",
        "\n",
        "parameters = {\n",
        "    'alpha': np.logspace(2, 5, 4),\n",
        "    'l1_ratio': np.linspace(0, 1, 5)\n",
        "}\n",
        "\n",
        "en = ElasticNet()\n",
        "gs = GridSearchCV(en, parameters, cv=4)\n",
        "gs.fit(train[all_features], train['price'])"
      ],
      "execution_count": null,
      "outputs": []
    },
    {
      "cell_type": "code",
      "metadata": {
        "id": "QtrSNXnDie4U"
      },
      "source": [
        "print(gs.best_params_)"
      ],
      "execution_count": null,
      "outputs": []
    }
  ]
}